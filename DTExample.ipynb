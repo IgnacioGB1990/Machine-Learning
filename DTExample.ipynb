{
 "cells": [
  {
   "cell_type": "code",
   "execution_count": 142,
   "metadata": {},
   "outputs": [
    {
     "data": {
      "text/plain": [
       "1.0"
      ]
     },
     "execution_count": 142,
     "metadata": {},
     "output_type": "execute_result"
    }
   ],
   "source": [
    "import pandas as pd\n",
    "\n",
    "from sklearn.tree import DecisionTreeClassifier\n",
    "from sklearn.model_selection import train_test_split\n",
    "from sklearn.metrics import accuracy_score\n",
    "\n",
    "music_data = pd.read_csv(\"music.csv\")\n",
    "X = music_data.drop(columns=[\"genre\"])\n",
    "y = music_data[\"genre\"]\n",
    "\n",
    "X_train, X_test, y_train,y_test = train_test_split(X,y,test_size=0.2)\n",
    "\n",
    "model = DecisionTreeClassifier()\n",
    "model.fit(X_train,y_train)\n",
    "predictions= model.predict(X_test)\n",
    "\n",
    "# Lets measure the accurracy\n",
    "score = accuracy_score(y_test,predictions)\n",
    "score"
   ]
  },
  {
   "cell_type": "code",
   "execution_count": 146,
   "metadata": {},
   "outputs": [
    {
     "data": {
      "text/plain": [
       "['music-recommender.joblib']"
      ]
     },
     "execution_count": 146,
     "metadata": {},
     "output_type": "execute_result"
    }
   ],
   "source": [
    "# Persistence => We want to save our model as in real life our trained model could take hours\n",
    "\n",
    "# Therefore it would be very inefficient if we had to retrain it constantly.\n",
    "\n",
    "import pandas as pd\n",
    "from sklearn.tree import DecisionTreeClassifier\n",
    "import joblib\n",
    "\n",
    "\n",
    "music_data = pd.read_csv(\"music.csv\")\n",
    "X = music_data.drop(columns=[\"genre\"])\n",
    "y = music_data[\"genre\"]\n",
    "\n",
    "model = DecisionTreeClassifier()\n",
    "model.fit(X,y)\n",
    "\n",
    "joblib.dump(model,\"music-recommender.joblib\")"
   ]
  },
  {
   "cell_type": "code",
   "execution_count": 147,
   "metadata": {},
   "outputs": [
    {
     "name": "stderr",
     "output_type": "stream",
     "text": [
      "/Users/ignaciogarciabarrero/opt/anaconda3/lib/python3.9/site-packages/sklearn/base.py:450: UserWarning: X does not have valid feature names, but DecisionTreeClassifier was fitted with feature names\n",
      "  warnings.warn(\n"
     ]
    },
    {
     "data": {
      "text/plain": [
       "array(['HipHop'], dtype=object)"
      ]
     },
     "execution_count": 147,
     "metadata": {},
     "output_type": "execute_result"
    }
   ],
   "source": [
    "# Persisted model\n",
    "\n",
    "model = joblib.load(\"music-recommender.joblib\")\n",
    "predictions = model.predict([[21,1]])\n",
    "predictions\n"
   ]
  },
  {
   "cell_type": "code",
   "execution_count": 148,
   "metadata": {},
   "outputs": [],
   "source": [
    "# Show visually the decision tree\n",
    "\n",
    "from sklearn import tree\n",
    "\n",
    "\n",
    "tree.export_graphviz(model,out_file=\"music-recommender.dot\",\n",
    "feature_names=[\"age\",\"gender\"],\n",
    "class_names=sorted(y.unique()),\n",
    "label=\"all\",\n",
    "rounded=True,\n",
    "filled=True\n",
    "\n",
    ")"
   ]
  }
 ],
 "metadata": {
  "interpreter": {
   "hash": "bcdc425d517deb9e216693a9add6673374e5d52249ad1f984c9f7bda525a095e"
  },
  "kernelspec": {
   "display_name": "Python 3.9.13 ('base')",
   "language": "python",
   "name": "python3"
  },
  "language_info": {
   "codemirror_mode": {
    "name": "ipython",
    "version": 3
   },
   "file_extension": ".py",
   "mimetype": "text/x-python",
   "name": "python",
   "nbconvert_exporter": "python",
   "pygments_lexer": "ipython3",
   "version": "3.9.13"
  },
  "orig_nbformat": 4
 },
 "nbformat": 4,
 "nbformat_minor": 2
}
