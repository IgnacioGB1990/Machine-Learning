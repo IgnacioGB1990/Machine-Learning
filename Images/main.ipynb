{
 "cells": [
  {
   "cell_type": "markdown",
   "metadata": {},
   "source": [
    "## **Introduction**\n",
    "\n",
    "**Multi-Class Image Classification** Machine Learning project.\n",
    "\n",
    "We want to determine what **type of class** the image is amongst :\n",
    "\n",
    "* automobile\n",
    "* cat\n",
    "* dog\n",
    "\n"
   ]
  },
  {
   "cell_type": "markdown",
   "metadata": {},
   "source": [
    "### 1. Import Libraries"
   ]
  },
  {
   "cell_type": "code",
   "execution_count": 2,
   "metadata": {},
   "outputs": [],
   "source": [
    "import numpy as np\n",
    "import pandas as pd"
   ]
  },
  {
   "cell_type": "markdown",
   "metadata": {},
   "source": [
    "## 2. Import files.\n",
    "\n",
    "File format and explanation:\n",
    "\n",
    "* There are **5 train** files (data_batch_1, data_batch_2, ...), **one test** (test_batch) and **label names** (batches.meta).\n",
    "* The dataset consists of **60,000** 32x32 colour images in 10 classes, with **6,000** images per class.\n",
    "* There are **50,000 training images** and **10,000 test images.**\n",
    "* Each file contains a dictionary with the following elements:\n",
    "\n",
    "    * **data:** a 10,000 x 3,072 numpy array of uint8s. Each row of the array stores a 32 x 32 colour image. The first 1,024 entries contain the red channel values, the next 1,024 the green, and the final 1,024 the blue. The image is stored in row-major order, so that the first 32 entries of the array are the red channel values of the first row of the image.\n",
    "    <br>\n",
    "    <br>\n",
    "    * **labels**: a list of 10,000 numbers in the range 0-9. The number at index i indicates the label of the ith image in the array **data.**\n",
    "\n",
    "\n",
    "Images available from :\n",
    "\n",
    "* airplane\n",
    "* automobile\n",
    "* bird\n",
    "* cat\n",
    "* deer\n",
    "* dog\n",
    "* frog\n",
    "* horse\n",
    "* ship\n",
    "* truck\n",
    "\n"
   ]
  },
  {
   "cell_type": "code",
   "execution_count": 53,
   "metadata": {},
   "outputs": [
    {
     "name": "stdout",
     "output_type": "stream",
     "text": [
      "[b'airplane', b'automobile', b'bird', b'cat', b'deer', b'dog', b'frog', b'horse', b'ship', b'truck']\n",
      "<class 'bytes'>\n",
      "<class 'str'>\n",
      "['airplane', 'automobile', 'bird', 'cat', 'deer', 'dog', 'frog', 'horse', 'ship', 'truck']\n"
     ]
    }
   ],
   "source": [
    "# Get the labels, transform type from byte to string and store them in label array.\n",
    "\n",
    "def unpickle(file):\n",
    "    import pickle\n",
    "    with open(file, 'rb') as fo:\n",
    "        dict = pickle.load(fo, encoding='bytes')\n",
    "        labels = dict[b'label_names']\n",
    "    return labels\n",
    "\n",
    "file = \"./data/batches.meta\"\n",
    "\n",
    "byte_labels = unpickle(file)\n",
    "\n",
    "# Show labels\n",
    "print(byte_labels)\n",
    "\n",
    "# b'This is a byte object.' => We need to convert it to string\n",
    "print(type(byte_labels[0]))\n",
    "\n",
    "labels =  list(map(lambda x: x.decode('utf-8'),byte_labels))\n",
    "print(type(labels[0]))\n",
    "print(labels)\n"
   ]
  },
  {
   "cell_type": "code",
   "execution_count": 83,
   "metadata": {},
   "outputs": [
    {
     "name": "stdout",
     "output_type": "stream",
     "text": [
      "10000 images each represented with a number ranging from 0 to 9\n",
      "dict_keys([b'batch_label', b'labels', b'data', b'filenames'])\n",
      "[[ 59  43  50 ... 140  84  72]\n",
      " [154 126 105 ... 139 142 144]\n",
      " [255 253 253 ...  83  83  84]\n",
      " ...\n",
      " [ 71  60  74 ...  68  69  68]\n",
      " [250 254 211 ... 215 255 254]\n",
      " [ 62  61  60 ... 130 130 131]]\n",
      "3072\n"
     ]
    }
   ],
   "source": [
    "# Function to unwrap \n",
    "def unpickle(file):\n",
    "    import pickle\n",
    "    with open(file, 'rb') as fo:\n",
    "        dict = pickle.load(fo, encoding='bytes')\n",
    "\n",
    "    # Each batch contains 10,000 images\n",
    "    print(len(dict[b'labels']),\"images each represented with a number ranging from 0 to 9\")\n",
    "\n",
    "    print((dict.keys()))\n",
    "\n",
    "\n",
    "    print((dict[b'data']))\n",
    "    # 32 x 32 = 1024\n",
    "    print(len((dict[b'data'][0])))\n",
    "\n",
    "\n",
    "\n",
    "file = \"./data/data_batch_1\"\n",
    "\n",
    "unpickle(file)\n"
   ]
  },
  {
   "cell_type": "code",
   "execution_count": null,
   "metadata": {},
   "outputs": [],
   "source": []
  }
 ],
 "metadata": {
  "interpreter": {
   "hash": "bcdc425d517deb9e216693a9add6673374e5d52249ad1f984c9f7bda525a095e"
  },
  "kernelspec": {
   "display_name": "Python 3.9.13 ('base')",
   "language": "python",
   "name": "python3"
  },
  "language_info": {
   "codemirror_mode": {
    "name": "ipython",
    "version": 3
   },
   "file_extension": ".py",
   "mimetype": "text/x-python",
   "name": "python",
   "nbconvert_exporter": "python",
   "pygments_lexer": "ipython3",
   "version": "3.9.13"
  },
  "orig_nbformat": 4
 },
 "nbformat": 4,
 "nbformat_minor": 2
}
