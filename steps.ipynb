{
 "cells": [
  {
   "cell_type": "markdown",
   "metadata": {},
   "source": [
    "# 1. Import the Data\n",
    "# 2. Clean the Data\n",
    "# 3. Split the Data into Training/Test Sets\n",
    "# 4. Create a Model\n",
    "# 5. Train the Model\n",
    "# 6. Make Predictions\n",
    "# 7. Evaluate and improve"
   ]
  }
 ],
 "metadata": {
  "language_info": {
   "name": "python"
  },
  "orig_nbformat": 4
 },
 "nbformat": 4,
 "nbformat_minor": 2
}
